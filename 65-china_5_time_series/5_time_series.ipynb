{
 "cells": [
  {
   "attachments": {},
   "cell_type": "markdown",
   "metadata": {},
   "source": [
    "<h1 align=center style=\"line-height:200%;font-family:vazir;color:#0099cc\">\n",
    "<font face=\"vazir\" color=\"#0099cc\">\n",
    "تحلیل زمانی\n",
    "</font>\n",
    "</h1>\n",
    "\n",
    "<p dir=rtl style=\"direction: rtl;text-align: justify;line-height:200%;font-family:vazir;font-size:medium\">\n",
    "<font face=\"vazir\" size=3>\n",
    "در آخرین گام از پروژه، گزارشی جامع در مورد ویژگی‌های هر منطقه به‌دست می‌آوریم. همچنین با استفاده از زمان انجام معاملات، دو تحلیل بر روی سری‌های زمانی انجام می‌دهیم.\n",
    "</font> \n",
    "</p>"
   ]
  },
  {
   "attachments": {},
   "cell_type": "markdown",
   "metadata": {},
   "source": [
    "<h2 align=right style=\"line-height:200%;font-family:vazir;color:#0099cc\">\n",
    "<font face=\"vazir\" color=\"#0099cc\">\n",
    "مجموعه‌داده\n",
    "</font>\n",
    "</h2>\n",
    "<p dir=rtl style=\"direction: rtl;text-align: justify;line-height:200%;font-family:vazir;font-size:medium\">\n",
    "<font face=\"vazir\" size=3>\n",
    "ابتدا فایل <code>housing_extended.csv</code> را که در گام‌های قبلی پروژه به‌دست آمد می‌خوانیم.\n",
    "</font>\n",
    "</p>\n"
   ]
  },
  {
   "cell_type": "code",
   "execution_count": null,
   "metadata": {
    "id": "i_Yj6huOoXFw"
   },
   "outputs": [],
   "source": [
    "import pandas as pd\n",
    "import matplotlib.pyplot as plt\n",
    "\n",
    "housing_extended = pd.read_csv('housing_extended.csv', encoding='gbk')"
   ]
  },
  {
   "attachments": {},
   "cell_type": "markdown",
   "metadata": {},
   "source": [
    "<h2 align=right style=\"line-height:200%;font-family:vazir;color:#0099cc\">\n",
    "<font face=\"vazir\" color=\"#0099cc\">\n",
    "قسمت اول\n",
    "</font>\n",
    "</h2>\n",
    "\n",
    "<p dir=rtl style=\"direction: rtl;text-align: justify;line-height:200%;font-family:vazir;font-size:medium\">\n",
    "<font face=\"vazir\" size=3>\n",
    "در قسمت اول می‌خواهیم به ازای هر منطقه (<code>district</code>) اطلاعاتی را به‌دست آوریم.\n",
    "دیتافریمی به نام <code>districts_df</code> بسازید و <code>index</code> آن را برابر ستون <code>district</code> قرار دهید. سپس برای هر منطقه موارد زیر را حساب کنید:\n",
    "</font>\n",
    "</p>\n",
    "\n",
    "<center>\n",
    "<div dir=rtl style=\"direction: rtl;line-height:200%;font-family:vazir;font-size:medium\">\n",
    "<font face=\"vazir\" size=3>\n",
    "\n",
    "| نام ستون | توضیح مقدار |\n",
    "| :---: | :---: |\n",
    "| <code dir=ltr>pricePerSquare mean</code> | متوسط قیمت هر متر مربع |\n",
    "| <code dir=ltr>% houses with elevator</code> | درصد خانه‌هایی که آسانسور دارند |\n",
    "| <code dir=ltr>% houses with subway</code> | درصد خانه‌هایی که به مترو دسترسی دارند |\n",
    "| <code dir=ltr>square mean</code> | متوسط متراژ خانه‌ها |\n",
    "| <code dir=ltr>building age mean</code> | متوسط سال عمر خانه‌ها (عمر هر خانه تا سال ۲۰۲۱ محاسبه می‌شود.) |\n",
    "| <code dir=ltr>frequent buildingStructure</code> | رایج‌ترین نوع ساختمان |\n",
    "\n",
    "</font>\n",
    "</div>\n",
    "</center>\n",
    "\n",
    "<p dir=rtl style=\"direction: rtl;text-align: justify;line-height:200%;font-family:vazir;font-size:medium\">\n",
    "<font face=\"vazir\" size=3>\n",
    "دیتافریم شما شامل ۱۳ ردیف (منطقه) خواهد بود و ردیف اول آن باید به شکل زیر باشد. توجه کنید که ردیف‌های دیتافریم باید براساس شماره‌ی منطقه مرتب باشند.\n",
    "</font>\n",
    "</p>\n",
    "\n",
    "<center>\n",
    "<div dir=ltr style=\"direction: ltr;line-height:200%;font-family:vazir;font-size:medium\">\n",
    "<font face=\"vazir\" size=3>\n",
    "\n",
    "\n",
    "|   <code>district</code> |   <code dir=ltr>pricePerSquare mean</code> |   <code dir=ltr>% houses with elevator</code> |   <code dir=ltr>% houses with subway</code> |   <code dir=ltr>square mean</code> |   <code dir=ltr>building age mean</code> | <code dir=ltr>frequent buildingStructure</code>   |\n",
    "|:---:|:---:|:---:|:---:|:---:|:---:|:---:|\n",
    "|          1 |               5981.774965 |                  56.216550\t |                93.488404 |       67.047856\t |             25.151709 | steel-concrete composite     |\n",
    "\n",
    "</font>\n",
    "</div>\n",
    "</center>"
   ]
  },
  {
   "cell_type": "code",
   "execution_count": null,
   "metadata": {
    "id": "c0mF5erawI-a"
   },
   "outputs": [],
   "source": [
    "districts_df = None # To-Do\n",
    "districts_df"
   ]
  },
  {
   "attachments": {},
   "cell_type": "markdown",
   "metadata": {
    "id": "QGme7iS9qC7Z"
   },
   "source": [
    "<p dir=rtl style=\"direction: rtl;text-align: justify;line-height:200%;font-family:vazir;font-size:medium\">\n",
    "<font face=\"vazir\" size=3>\n",
    "تحلیل داده‌ها بر اساس ترتیب زمانی آن‌ها در برخی حوزه‌ها کاربرد بسیاری دارد. به‌عنوان مثال، پیش‌بینی قیمت در بورس، پیش‌بینی قیمت طلا، بررسی حجم فروش اجناس در بازه‌های زمانی مختلف و غیره. زمان انجام معاملات هر خانه در این دیتافریم مشخص شده است و ما می‌توانیم چنین تحلیل‌هایی را نیز بر روی آن انجام دهیم.\n",
    "</font>\n",
    "</p>\n",
    "\n",
    "<p dir=rtl style=\"direction: rtl;text-align: right;line-height:200%;font-family:vazir;font-size:medium\">\n",
    "<font face=\"vazir\" size=3>\n",
    "اولین کاری که باید انجام دهیم، تبدیل ستون <code>tradeTime</code> به فرمت زمانی است. برای این‌کار از تابع <code>to_datetime</code> استفاده می‌کنیم.\n",
    "</font>\n",
    "</p>"
   ]
  },
  {
   "cell_type": "code",
   "execution_count": null,
   "metadata": {
    "id": "BJ6DDhFXqKoX"
   },
   "outputs": [],
   "source": [
    "housing_extended['tradeTime'] = pd.to_datetime(housing_extended['tradeTime'])\n",
    "housing_extended.head()"
   ]
  },
  {
   "attachments": {},
   "cell_type": "markdown",
   "metadata": {
    "id": "b0MiTy9cUX2z"
   },
   "source": [
    "<h2 align=right style=\"line-height:200%;font-family:vazir;color:#0099cc\">\n",
    "<font face=\"vazir\" color=\"#0099cc\">\n",
    "قسمت دوم\n",
    "</font>\n",
    "</h2>\n",
    "<p dir=rtl style=\"direction: rtl;text-align: justify;line-height:200%;font-family:vazir;font-size:medium\">\n",
    "<font face=\"vazir\" size=3>\n",
    "طبق نظر افراد محلی، چند ماه است که قیمت خانه در حال کاهش است و پیش‌بینی می‌شود این روند ادامه یابد. در این تمرین می‌خواهیم صحت این فرضیه را بررسی کنیم.\n",
    "<ul dir=rtl>\n",
    "  <li>متد <code>resample</code> متدی قدرتمند برای کار با سری‌های زمانی است. با این متد می‌توان سطرها را بر اساس بازه‌ی زمانی گروه‌بندی کرد. پارامتر <code>rule</code> بازه‌ی مورد نظر و پارامتر <code>on</code> ستونی که زمان در آن ذخیره شده را مشخص می‌کند.</li>\n",
    "    <li>یک عکس شامل یک صفحه‌محور بسازید و اندازه‌ی طول و عرض آن را برابر <code>8</code> اینچ قرار دهید.</li>\n",
    "  <li>با استفاده از متد <code>resample</code> میانگین قیمت هر متر مربع در معاملات ماهانه را حساب کنید. قبل از سال ۲۰۱۰ زیر ۱۰ معامله انجام شده است. معاملات بعد از سال ۲۰۱۰ را وارد محاسبات خود کنید.\n",
    "</li>\n",
    "  <li>\n",
    "با استفاده از رابط پانداز، اطلاعات به‌دست آمده را روی صفحه‌محوری که پیش از این ساختید رسم کنید. رنگ خط را برابر <code>crimson</code> قرار دهید.\n",
    "</li>\n",
    "\n",
    "<li>\n",
    "تنظیمات را طوری تغییر دهید که نمودار خروجی شما دقیقاً مانند شکل زیر شود.\n",
    "</li>\n",
    "\n",
    "</ul>\n",
    "</font>\n",
    "</p>\n",
    "\n",
    "\n",
    "<p style=\"text-align:center; background-color:white\"><img src=\"fig1.png\"></p>\n",
    "\n"
   ]
  },
  {
   "cell_type": "code",
   "execution_count": null,
   "metadata": {
    "colab": {
     "base_uri": "https://localhost:8080/",
     "height": 531
    },
    "id": "II_MBV-7qDbb",
    "outputId": "143ed194-75d8-4978-f23f-c4b25ce1012b"
   },
   "outputs": [],
   "source": [
    "fig1 , ax1 = None # To-Do"
   ]
  },
  {
   "attachments": {},
   "cell_type": "markdown",
   "metadata": {
    "id": "fqO4vofgUa6m"
   },
   "source": [
    "<h2 align=right style=\"line-height:200%;font-family:vazir;color:#0099cc\">\n",
    "<font face=\"vazir\" color=\"#0099cc\">\n",
    "قسمت سوم\n",
    "</font>\n",
    "</h2>\n",
    "<p dir=rtl style=\"direction: rtl;text-align: justify;line-height:200%;font-family:vazir;font-size:medium\">\n",
    "<font face=\"vazir\" size=3>\n",
    "شایعه‌ی دیگری که می‌خواهیم بررسی کنیم، کاهش <b> تعداد </b> معاملات خانه‌های نزدیک مرکز شهر است. این نمودار مانند نمودار قبلی است و این تغییرات را باید در آن ایجاد کنید.\n",
    "<ul dir=rtl>\n",
    "\n",
    "  <li>\n",
    "بازه‌ی زمانی به جای ماه، ۳ ماه می‌باشد و علاوه بر اینکه فقط معاملات بعد از ۲۰۱۰ باید بررسی شوند، معاملات خانه‌هایی که فاصله آن‌ها از مرکز بیشتر یا مساوی ۱۵ کیلومتر است هم باید حذف شوند.\n",
    "</li>\n",
    "  <li>\n",
    "رنگ خط را برابر <code>orange</code> قرار دهید.\n",
    "</li>\n",
    "\n",
    "<li>\n",
    "تنظیمات را طوری تغییر دهید که نمودار خروجی شما دقیقاً مانند شکل زیر شود.\n",
    "</li>\n",
    "\n",
    "</ul>\n",
    "</font>\n",
    "</p>\n",
    "\n",
    "<p dir=rtl style=\"direction: rtl;text-align: justify;line-height:200%;font-family:vazir;font-size:medium\">\n",
    "<font face=\"vazir\" size=3>\n",
    " <span style=\"color:green\"><b>نکته:</b></span>\n",
    "    ابتدا معاملات بعد از ۲۰۱۰ را انتخاب کنید، سپس از <code>resample</code> استفاده کنید و در نهایت تعداد خانه‌هایی که فاصله‌ی آنها تا مرکز کمتر از ۱۵ کیلومتر است را بشمارید.\n",
    "  </font>\n",
    "</p>\n",
    "<p style=\"text-align:center; background-color:white\"><img src=\"fig2.png\"></p>\n",
    "\n"
   ]
  },
  {
   "cell_type": "code",
   "execution_count": null,
   "metadata": {
    "colab": {
     "base_uri": "https://localhost:8080/",
     "height": 531
    },
    "id": "pXx6193C-0BT",
    "outputId": "8510c0d9-a505-49f9-f253-9ff5c4326419"
   },
   "outputs": [],
   "source": [
    "fig2 , ax2 = None # To-Do"
   ]
  },
  {
   "attachments": {},
   "cell_type": "markdown",
   "metadata": {},
   "source": [
    "<h2 align=right style=\"line-height:200%;font-family:vazir;color:#0099cc\">\n",
    "<font face=\"vazir\" color=\"#0099cc\">\n",
    "<b>سلول جواب‌ساز</b>\n",
    "</font>\n",
    "</h2>\n",
    "\n",
    "\n",
    "<p dir=rtl style=\"direction: rtl; text-align: justify; line-height:200%; font-family:vazir; font-size:medium\">\n",
    "<font face=\"vazir\" size=3>\n",
    "    برای ساخته‌شدن فایل <code>result.zip</code> سلول زیر را اجرا کنید. توجه داشته باشید که پیش از اجرای سلول زیر تغییرات اعمال شده در نت‌بوک را ذخیره کرده باشید (<code>ctrl+s</code>) تا در صورت نیاز به پشتیبانی امکان بررسی کد شما وجود داشته باشد.\n",
    "</font>\n",
    "</p>"
   ]
  },
  {
   "cell_type": "code",
   "execution_count": null,
   "metadata": {},
   "outputs": [],
   "source": [
    "\n",
    "import zipfile\n",
    "import joblib\n",
    "\n",
    "districts_df.to_csv('districts_df.csv', index=True)\n",
    "joblib.dump(fig1,\"fig1\")\n",
    "joblib.dump(fig2,\"fig2\")\n",
    "\n",
    "def compress(file_names):\n",
    "    print(\"File Paths:\")\n",
    "    print(file_names)\n",
    "    compression = zipfile.ZIP_DEFLATED\n",
    "    with zipfile.ZipFile(\"result.zip\", mode=\"w\") as zf:\n",
    "        for file_name in file_names:\n",
    "            zf.write('./' + file_name, file_name, compress_type=compression)\n",
    "\n",
    "\n",
    "file_names = [\"districts_df.csv\",\"fig1\",\"fig2\", '5_time_series.ipynb']\n",
    "compress(file_names)"
   ]
  }
 ],
 "metadata": {
  "colab": {
   "name": "step5.ipynb",
   "provenance": []
  },
  "kernelspec": {
   "display_name": "Python 3",
   "language": "python",
   "name": "python3"
  },
  "language_info": {
   "codemirror_mode": {
    "name": "ipython",
    "version": 3
   },
   "file_extension": ".py",
   "mimetype": "text/x-python",
   "name": "python",
   "nbconvert_exporter": "python",
   "pygments_lexer": "ipython3",
   "version": "3.8.0"
  },
  "vscode": {
   "interpreter": {
    "hash": "44e7e1b8fa2096bd5707ed7fd18b1724a2db25f4c565a7673f8b6e7bfc49d25d"
   }
  }
 },
 "nbformat": 4,
 "nbformat_minor": 4
}
