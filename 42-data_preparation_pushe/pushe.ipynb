{
 "cells": [
  {
   "cell_type": "markdown",
   "id": "ed01da47",
   "metadata": {},
   "source": [
    "<h1 align=center style=\"line-height:200%;font-family:vazir;color:#0099cc\">\n",
    "<font face=\"vazir\" color=\"#0099cc\">\n",
    "پوشه\n",
    "</font>\n",
    "</h1>"
   ]
  },
  {
   "attachments": {},
   "cell_type": "markdown",
   "id": "a589e19f",
   "metadata": {},
   "source": [
    "<p dir=rtl style=\"direction: rtl;text-align: right;line-height:200%;font-family:vazir;font-size:medium\">\n",
    "<font face=\"vazir\" size=3>\n",
    "    هدف این تمرین، دوره کردن مطالب درسنامه‌های قبلی  به کمک تحلیل داده‌های پوشه است.\n",
    "</font>\n",
    "</p>\n",
    "    "
   ]
  },
  {
   "attachments": {},
   "cell_type": "markdown",
   "id": "1015b1a9",
   "metadata": {},
   "source": [
    "<h3 align=right style=\"line-height:200%;font-family:vazir;color:#0099cc\">\n",
    "<font face=\"vazir\" color=\"#0099cc\">\n",
    "   نوتیفیکیشن چیست؟\n",
    "</font>\n",
    "</h3>\n",
    "\n",
    "<p dir=rtl style=\"direction: rtl;text-align: right;line-height:200%;font-family:vazir;font-size:medium\">\n",
    "<font face=\"vazir\" size=3>\n",
    "  نوتیفیکیشن یا همان پوش نوتیفیکیشن، یک راه ارتباطی بین مالک اپلیکیشن موبایل یا وب با کاربرانش است. نوتیفیکیشن این اجازه را می‌دهد که صاحب اپلیکیشن خبر یا اتفاقی جدید را به کاربران خود برساند؛ حتی اگر در آن هنگام کاربر در حال استفاده از اپلیکیشن نباشد.\n",
    "برای مثال، توسعه‌دهنده می‌خواهد به کاربران خود بگوید که اپلیکیشن را آپدیت کنند؛ در این صورت، توسعه‌دهنده می‌تواند به راحتی از طریق نوتیفیکیشن این اطلاع را به کاربران خود بدهد و هم‌چنین لینک آپدیت را در آن قرار دهد. \n",
    "</font>\n",
    "</p>"
   ]
  },
  {
   "attachments": {},
   "cell_type": "markdown",
   "id": "1250df3f",
   "metadata": {},
   "source": [
    "<h3 align=right style=\"line-height:200%;font-family:vazir;color:#0099cc\">\n",
    "<font face=\"vazir\" color=\"#0099cc\">\n",
    "   پوشه چیست؟\n",
    "    </font>\n",
    "</h3>\n",
    "\n",
    "<p dir=rtl style=\"direction: rtl;text-align: right;line-height:200%;font-family:vazir;font-size:medium\">\n",
    "<font face=\"vazir\" size=3>\n",
    "    پوشه یک سرویس ارسال پوش نوتیفیکیشن برای نرم افزارهای موبایل و وب است. کسب‌وکارها و توسعه‌دهندگان موبایل و وب به هنگام نوشتن برنامه، \n",
    "    از\n",
    "    <i>SDK</i>\n",
    "     پوشه در نرم‌افزار خودشان استفاده می‌کنند تا از طریق آن نرخ بازگشت و میزان درگیر‌شدن کاربران‌شان با برنامه را افزایش دهند و از آمار و فیلترهایی که پوشه در اختیارشان قرار می‌دهد برای بهبود برنامه و افزایش رضایت کاربران بهره ببرند.\n",
    "</font>\n",
    "</p>"
   ]
  },
  {
   "attachments": {},
   "cell_type": "markdown",
   "id": "22c300d7",
   "metadata": {},
   "source": [
    "<h2 align=right style=\"line-height:200%;font-family:vazir;color:#0099cc\">\n",
    "<font face=\"vazir\" color=\"#0099cc\">\n",
    "توضیح داده\n",
    "</font>\n",
    "</h2>\n",
    "\n",
    "<div dir=rtl style=\"direction: rtl;text-align: right;line-height:200%;font-family:vazir;font-size:medium\">\n",
    "<font face=\"vazir\" size=3>\n",
    "    داده‌ای که در اختیار شما قرار گرفته، حاوی اطلاعاتی از نوتیفیکیشن‌هایی است که به تلفن همراه کاربران ارسال شده‌ است.\n",
    "    <br>\n",
    "    هر سطر از این دیتافریم مشخص می‌کند چه نوتیفیکیشنی، در چه زمانی، توسط چه برنامه‌ای به چه کاربری فرستاده شده‌ است و واکنش کاربر نسبت به آن چه بوده‌ است.\n",
    "    در جدول زیر ستون‌های داده‌ای که در فایل \n",
    "    <code>notifications.csv</code>\n",
    "    موجود است را بررسی می‌کنیم.\n",
    "</font>\n",
    "</p>"
   ]
  },
  {
   "attachments": {},
   "cell_type": "markdown",
   "id": "8c48b422",
   "metadata": {},
   "source": [
    "<div dir=rtl style=\"direction: rtl;text-align: right;line-height:200%;font-family:vazir;font-size:medium\">\n",
    "<font face=\"vazir\" size=3>\n",
    "<center>\n",
    "\n",
    "| ستون | توضیح |\n",
    "|:-----------:|:------:|\n",
    "| action |کلیک کردن (<code>C</code>)، رد کردن (<code>F</code>)|\n",
    "| application_id | شناسه‌ی برنامه|\n",
    "| interaction_time |زمان دریافت پیام|\n",
    "| notification_id | شناسه‌ی نوتیفیکیشن|\n",
    "| user_id | شناسه‌ی کاربر|\n",
    "\n",
    "</center>\n",
    "</font>\n",
    "</div>"
   ]
  },
  {
   "attachments": {},
   "cell_type": "markdown",
   "id": "db267864",
   "metadata": {},
   "source": [
    "<p dir=rtl style=\"direction: rtl;text-align: right;line-height:200%;font-family:vazir;font-size:medium\">\n",
    "<font face=\"vazir\" size=3>\n",
    "<span color=”purple”><b>توجه:</b></span>\n",
    "    عددی که در ستون <code>interaction_time</code> آمده‌ است بر حسب ثانیه است. این عدد نشان می‌دهد چند ثانیه از تاریخ <b>۲۰۱۹/۶/۱</b> گذشته است.\n",
    "       به عنوان مثال، زمان ۵۲۵۸۷۰۰ به معنی گذشتن ۵۲۵۸۷۰۰ ثانیه از ۲۰۱۹/۶/۱ است. \n",
    "</font>\n",
    "</p>"
   ]
  },
  {
   "attachments": {},
   "cell_type": "markdown",
   "id": "ba177aeb",
   "metadata": {},
   "source": [
    "<h2 align=right style=\"line-height:200%;font-family:vazir;color:#0099cc\">\n",
    "<font face=\"vazir\" color=\"#0099cc\">\n",
    "بخش اول: پیش‌پردازش\n",
    "</font>\n",
    "</h2>\n",
    "\n",
    "<p dir=rtl style=\"direction: rtl;text-align: right;line-height:200%;font-family:vazir;font-size:medium\">\n",
    "<font face=\"vazir\" size=3>\n",
    "    در این مرحله باید با استفاده از ستون <code>interaction_time</code> و تاریخ <b>۲۰۱۹/۶/۱</b>، تاریخی که نوتیفیکیشن ارسال شده‌ است را به‌دست آوریم.\n",
    "    تاریخی که نوتیفیکیشن ارسال شده‌ است را در ستون جدیدی به اسم \n",
    "    <code>date</code>\n",
    "    به دیتافریم اضافه کنید. در قسمت زیر، مثالی برای به‌دست‌آوردن تاریخ آورده شده است و انتظار می‌رود تاریخی که شما به‌دست می‌آورید نیز از جنس\n",
    "    <code>datetime</code>\n",
    "    باشد.\n",
    "</font>\n",
    "</p>"
   ]
  },
  {
   "attachments": {},
   "cell_type": "markdown",
   "id": "38ec4e79",
   "metadata": {},
   "source": [
    "<p dir=rtl style=\"direction: rtl;text-align: right;line-height:200%;font-family:vazir;font-size:medium\">\n",
    "<font face=\"vazir\" size=3>\n",
    "<span color=”green”><b>    راهنمایی : معرفی تابع <code>timedelta</code></b></span>\n",
    "<br>\n",
    "   این تابع برای نشان دادن فاصله‌ی زمانی به کار می‌رود. مثلا اگر بخواهیم بدانیم ۱۰ روز و ۵۰ ثانیه بعد از زمانی که در متغیر <code>example_time</code> ذخیره شده‌ است، چه زمانی است می‌توانیم به شکل زیر عمل کنیم. \n",
    "</font>\n",
    "</p>"
   ]
  },
  {
   "cell_type": "code",
   "execution_count": 207,
   "id": "a5eaa828",
   "metadata": {},
   "outputs": [
    {
     "data": {
      "text/plain": [
       "datetime.datetime(2021, 10, 1, 0, 0, 50)"
      ]
     },
     "execution_count": 207,
     "metadata": {},
     "output_type": "execute_result"
    }
   ],
   "source": [
    "import datetime \n",
    "from datetime import timedelta\n",
    "\n",
    "example_time = datetime.datetime(2021,9,21)\n",
    "example_time + timedelta(days=10, seconds=50)"
   ]
  },
  {
   "attachments": {},
   "cell_type": "markdown",
   "id": "e0e3db9d",
   "metadata": {},
   "source": [
    "<p dir=rtl style=\"direction: rtl;text-align: right;line-height:200%;font-family:vazir;font-size:medium\">\n",
    "<font face=\"vazir\" size=3>\n",
    "   اگر بخواهیم بدانیم ۱۰ روز و ۵۰ ثانیه قبل از زمانی که در متغیر <code>example_time</code> ذخیره شده‌ است، چه زمانی است می‌توانیم به شکل زیر عمل کنیم. \n",
    "</font>\n",
    "</p>"
   ]
  },
  {
   "cell_type": "code",
   "execution_count": 208,
   "id": "17b3beae",
   "metadata": {},
   "outputs": [
    {
     "data": {
      "text/plain": [
       "datetime.datetime(2021, 9, 10, 23, 59, 10)"
      ]
     },
     "execution_count": 208,
     "metadata": {},
     "output_type": "execute_result"
    }
   ],
   "source": [
    "example_time - timedelta(days=10, seconds=50)"
   ]
  },
  {
   "cell_type": "code",
   "execution_count": 209,
   "id": "620704d2",
   "metadata": {},
   "outputs": [
    {
     "data": {
      "text/html": [
       "<div>\n",
       "<style scoped>\n",
       "    .dataframe tbody tr th:only-of-type {\n",
       "        vertical-align: middle;\n",
       "    }\n",
       "\n",
       "    .dataframe tbody tr th {\n",
       "        vertical-align: top;\n",
       "    }\n",
       "\n",
       "    .dataframe thead th {\n",
       "        text-align: right;\n",
       "    }\n",
       "</style>\n",
       "<table border=\"1\" class=\"dataframe\">\n",
       "  <thead>\n",
       "    <tr style=\"text-align: right;\">\n",
       "      <th></th>\n",
       "      <th>action</th>\n",
       "      <th>application_id</th>\n",
       "      <th>interaction_time</th>\n",
       "      <th>notification_id</th>\n",
       "      <th>user_id</th>\n",
       "    </tr>\n",
       "  </thead>\n",
       "  <tbody>\n",
       "    <tr>\n",
       "      <th>0</th>\n",
       "      <td>F</td>\n",
       "      <td>1</td>\n",
       "      <td>4489200</td>\n",
       "      <td>79</td>\n",
       "      <td>665</td>\n",
       "    </tr>\n",
       "    <tr>\n",
       "      <th>1</th>\n",
       "      <td>F</td>\n",
       "      <td>1</td>\n",
       "      <td>4489200</td>\n",
       "      <td>79</td>\n",
       "      <td>6280</td>\n",
       "    </tr>\n",
       "    <tr>\n",
       "      <th>2</th>\n",
       "      <td>F</td>\n",
       "      <td>1</td>\n",
       "      <td>4388400</td>\n",
       "      <td>78</td>\n",
       "      <td>14774</td>\n",
       "    </tr>\n",
       "    <tr>\n",
       "      <th>3</th>\n",
       "      <td>F</td>\n",
       "      <td>1</td>\n",
       "      <td>4410000</td>\n",
       "      <td>78</td>\n",
       "      <td>3152</td>\n",
       "    </tr>\n",
       "    <tr>\n",
       "      <th>4</th>\n",
       "      <td>C</td>\n",
       "      <td>1</td>\n",
       "      <td>4410000</td>\n",
       "      <td>72</td>\n",
       "      <td>3633</td>\n",
       "    </tr>\n",
       "  </tbody>\n",
       "</table>\n",
       "</div>"
      ],
      "text/plain": [
       "  action  application_id  interaction_time  notification_id  user_id\n",
       "0      F               1           4489200               79      665\n",
       "1      F               1           4489200               79     6280\n",
       "2      F               1           4388400               78    14774\n",
       "3      F               1           4410000               78     3152\n",
       "4      C               1           4410000               72     3633"
      ]
     },
     "execution_count": 209,
     "metadata": {},
     "output_type": "execute_result"
    }
   ],
   "source": [
    "import pandas as pd\n",
    "df = pd.read_csv(\"notifications_pushe.csv\")\n",
    "df.head()"
   ]
  },
  {
   "cell_type": "code",
   "execution_count": 210,
   "id": "5a58787c",
   "metadata": {},
   "outputs": [
    {
     "data": {
      "text/html": [
       "<div>\n",
       "<style scoped>\n",
       "    .dataframe tbody tr th:only-of-type {\n",
       "        vertical-align: middle;\n",
       "    }\n",
       "\n",
       "    .dataframe tbody tr th {\n",
       "        vertical-align: top;\n",
       "    }\n",
       "\n",
       "    .dataframe thead th {\n",
       "        text-align: right;\n",
       "    }\n",
       "</style>\n",
       "<table border=\"1\" class=\"dataframe\">\n",
       "  <thead>\n",
       "    <tr style=\"text-align: right;\">\n",
       "      <th></th>\n",
       "      <th>action</th>\n",
       "      <th>application_id</th>\n",
       "      <th>interaction_time</th>\n",
       "      <th>notification_id</th>\n",
       "      <th>user_id</th>\n",
       "      <th>date</th>\n",
       "    </tr>\n",
       "  </thead>\n",
       "  <tbody>\n",
       "    <tr>\n",
       "      <th>0</th>\n",
       "      <td>F</td>\n",
       "      <td>1</td>\n",
       "      <td>4489200</td>\n",
       "      <td>79</td>\n",
       "      <td>665</td>\n",
       "      <td>2019-07-22 23:00:00</td>\n",
       "    </tr>\n",
       "    <tr>\n",
       "      <th>1</th>\n",
       "      <td>F</td>\n",
       "      <td>1</td>\n",
       "      <td>4489200</td>\n",
       "      <td>79</td>\n",
       "      <td>6280</td>\n",
       "      <td>2019-07-22 23:00:00</td>\n",
       "    </tr>\n",
       "    <tr>\n",
       "      <th>2</th>\n",
       "      <td>F</td>\n",
       "      <td>1</td>\n",
       "      <td>4388400</td>\n",
       "      <td>78</td>\n",
       "      <td>14774</td>\n",
       "      <td>2019-07-21 19:00:00</td>\n",
       "    </tr>\n",
       "    <tr>\n",
       "      <th>3</th>\n",
       "      <td>F</td>\n",
       "      <td>1</td>\n",
       "      <td>4410000</td>\n",
       "      <td>78</td>\n",
       "      <td>3152</td>\n",
       "      <td>2019-07-22 01:00:00</td>\n",
       "    </tr>\n",
       "    <tr>\n",
       "      <th>4</th>\n",
       "      <td>C</td>\n",
       "      <td>1</td>\n",
       "      <td>4410000</td>\n",
       "      <td>72</td>\n",
       "      <td>3633</td>\n",
       "      <td>2019-07-22 01:00:00</td>\n",
       "    </tr>\n",
       "  </tbody>\n",
       "</table>\n",
       "</div>"
      ],
      "text/plain": [
       "  action  application_id  interaction_time  notification_id  user_id  \\\n",
       "0      F               1           4489200               79      665   \n",
       "1      F               1           4489200               79     6280   \n",
       "2      F               1           4388400               78    14774   \n",
       "3      F               1           4410000               78     3152   \n",
       "4      C               1           4410000               72     3633   \n",
       "\n",
       "                 date  \n",
       "0 2019-07-22 23:00:00  \n",
       "1 2019-07-22 23:00:00  \n",
       "2 2019-07-21 19:00:00  \n",
       "3 2019-07-22 01:00:00  \n",
       "4 2019-07-22 01:00:00  "
      ]
     },
     "execution_count": 210,
     "metadata": {},
     "output_type": "execute_result"
    }
   ],
   "source": [
    "df['date'] = df['interaction_time'].apply(lambda x: timedelta(seconds=x) + datetime.datetime(2019,6,1))\n",
    "df.head()"
   ]
  },
  {
   "attachments": {},
   "cell_type": "markdown",
   "id": "4a34dc09",
   "metadata": {},
   "source": [
    "<h2 align=right style=\"line-height:200%;font-family:vazir;color:#0099cc\">\n",
    "<font face=\"vazir\" color=\"#0099cc\">\n",
    "بخش دوم: تحلیل اپلیکیشن‌ها\n",
    "</font>\n",
    "</h2>\n",
    "\n",
    "<p dir=rtl style=\"direction: rtl;text-align: right;line-height:200%;font-family:vazir;font-size:medium\">\n",
    "<font face=\"vazir\" size=3>\n",
    "    در این بخش می‌خواهیم بدانیم کدام اپلیکیشن، در ارسال نوتیفیکیشن‌ موفق‌ عمل کرده است.\n",
    "    <br>\n",
    "    <br>\n",
    "    به ازای هر اپلیکیشن، نرخ کلیک‌‌شدن نوتیفیکیشن‌ها را به دست آورید. به عنوان مثال اگر اپلیکیشن شماره‌ی ۱۰، از مجموع ۱۰۰ نوتیفیکیشنی که ارسال کرده‌ است، ۱۰ نوتیفیکیشن توسط کاربران کلیک شده‌ باشد، نرخ کلیک‌‌شدن نوتیفیکیشن‌های اپلیکیشن‌ شماره ۱۰، عدد ۰/۱ خواهد بود.\n",
    "    موفق‌ترین اپلیکیشن، اپلیکیشنی است که نرخ کلیک‌‌شدن نوتیفیکیشن‌هایش از همه بیشتر باشد.\n",
    "    <br>\n",
    "    موفق‌ترین اپلیکیشن‌ را به همراه نرخ‌ کلیک‌‌شدنش در تاپلی به اسم <code>tuple_appid_successrate</code> ذخیره کنید. به صورتی که عنصر اول تاپل، شناسه‌ی اپلیکیشن موفق و عنصر دوم تاپل، نرخ کلیک‌‌شدن نوتیفیکیشن‌هایش باشد.\n",
    "    اعدادی که در مثال بالا اشاره شد، هیچ اعتباری ندارند و کاملا تصادفی تولید شده‌اند. بنابراین جوابی که شما به دست خواهید‌ آورد، ممکن است با این اعداد تفاوت داشته باشد.\n",
    "</font>\n",
    "</p>"
   ]
  },
  {
   "cell_type": "code",
   "execution_count": 211,
   "id": "f93ae162",
   "metadata": {},
   "outputs": [
    {
     "data": {
      "text/plain": [
       "(1.0, 0.18529923416848293)"
      ]
     },
     "execution_count": 211,
     "metadata": {},
     "output_type": "execute_result"
    }
   ],
   "source": [
    "gs = df.groupby('application_id')[\"action\"].value_counts().unstack()\n",
    "gs.reset_index(inplace=True)\n",
    "gs[\"sr\"] = gs[\"C\"] / (gs[\"C\"]+gs[\"F\"])\n",
    "ind = gs[\"sr\"].argmax()\n",
    "tuple_appid_successrate = (gs.iloc[ind][\"application_id\"], gs.iloc[ind][\"sr\"])\n",
    "tuple_appid_successrate"
   ]
  },
  {
   "attachments": {},
   "cell_type": "markdown",
   "id": "a22f87a7",
   "metadata": {},
   "source": [
    "<h2 align=right style=\"line-height:200%;font-family:vazir;color:#0099cc\">\n",
    "<font face=\"vazir\" color=\"#0099cc\">\n",
    "بخش سوم: تحلیل نوتیفیکیشن‌ها\n",
    "</font>\n",
    "</h2>\n",
    "\n",
    "<p dir=rtl style=\"direction: rtl;text-align: right;line-height:200%;font-family:vazir;font-size:medium\">\n",
    "<font face=\"vazir\" size=3>\n",
    "    در این بخش می‌خواهیم بدانیم کدام نوتیفیکیشن در کلیک‌‌شدن موفق ظاهر شده‌ است و در چه روزی از هفته، بیشترین میزان کلیک را داشته است.\n",
    "    <br>\n",
    "    <br>\n",
    "    ابتدا فرض کنید که بین تمام نوتیفیکیشن‌ها، نوتیفکیشینی با شناسه‌ی ۱۱۰۰ بیشترین نرخ کلیک‌شدن را داشته باشد. در این صورت، نوتیفیکیشن ۱۱۰۰ موفق‌ترین نوتیفیکیشن است.\n",
    "    حال فرض کنید که این نوتیفیکیشن در روز شنبه ۱۰۰ کلیک، یکشنبه ۱۳۰ کلیک، دوشنبه ۳۰ کلیک، سه‌شنبه ۹۰ کلیک، چهارشنبه ۴۵ کلیک، پنج‌شنبه ۴ کلیک و جمعه هیچ‌ کلیکی نداشته باشد.\n",
    "    در این صورت، یکشنبه (Sunday) روزی است که نوتیفیکیشن ۱۱۰۰، بیش‌ترین کلیک‌ را خورده است.\n",
    "     بنابراین تاپل \n",
    "     <code>tuple_notifid_day</code>\n",
    "      به صورت زیر باید مقداردهی شود.  \n",
    "</font>\n",
    "</p>\n",
    "\n",
    "```python\n",
    "tuple_notifid_day = (1100, \"Sunday\")\n",
    "```\n",
    "<p dir=rtl style=\"direction: rtl;text-align: right;line-height:200%;font-family:vazir;font-size:medium\">\n",
    "<font face=\"vazir\" size=3>\n",
    "   ضمناً توجه کنید که اسامی روز‌ها باید بر اساس نام انگلیسی آن‌ها باشد.\n",
    "    مانند مثال بالا، برای روز یکشنبه کلمه‌ی Sunday، روز دوشنبه کلمه‌ی Monday و ... در نظر بگیرید.\n",
    "</font>\n",
    "</p>"
   ]
  },
  {
   "cell_type": "code",
   "execution_count": 212,
   "id": "c4fa9e45",
   "metadata": {},
   "outputs": [
    {
     "name": "stdout",
     "output_type": "stream",
     "text": [
      "(79.0, 'Monday')\n"
     ]
    }
   ],
   "source": [
    "df2 = df.copy()\n",
    "df2[\"day\"] = df.date.dt.day_name()\n",
    "gf = df.groupby('notification_id')[\"action\"].value_counts().unstack()\n",
    "gf.reset_index(inplace=True)\n",
    "gf[\"sr\"] = gf[\"C\"] / (gf[\"C\"]+gf[\"F\"])\n",
    "ind = gf[\"sr\"].argmax()\n",
    "best_id = gf.iloc[ind][\"notification_id\"]\n",
    "gf2 = df2.groupby('notification_id')[\"day\"].value_counts().unstack().loc[best_id]\n",
    "a = gf2.index[gf2.argmax()]\n",
    "tuple_notifid_day = (best_id, a)\n",
    "print(tuple_notifid_day)\n"
   ]
  },
  {
   "attachments": {},
   "cell_type": "markdown",
   "id": "d78c84d0",
   "metadata": {},
   "source": [
    "<h2 align=right style=\"line-height:200%;font-family:vazir;color:#0099cc\">\n",
    "<font face=\"vazir\" color=\"#0099cc\">\n",
    "بخش چهارم: تحلیل روز‌ها\n",
    "</font>\n",
    "</h2>\n",
    "\n",
    "<p dir=rtl style=\"direction: rtl;text-align: right;line-height:200%;font-family:vazir;font-size:medium\">\n",
    "<font face=\"vazir\" size=3>\n",
    "   هدف بخش چهارم آن است که بدانیم در چه روز‌هایی از ماه، نرخ کلیک‌‌شدن نوتیفیکیشن‌ها بیشتر است.\n",
    "    <br>\n",
    "    <br>\n",
    "    به عبارت ساده‌تر، دیتافریم را بر اساس روزی که نوتیفیکیشن ارسال شده‌ است، گروه‌بندی کنید؛ سپس محاسبه کنید در هر روز، نرخ کلیک‌‌شدن نوتیفیکیشن‌ها چه‌مقدار بوده‌ است.\n",
    "    در نهایت روزی که بیش‌ترین نرخ را دارد به همراه نرخ آن روز، در تاپلی به اسم <code>tuple_day_rate</code> ذخیره کنید.\n",
    "    به عنوان مثال اگر روز ۱۵ ام دارای نرخ ۰/۸۵ باشد (بیش‌ترین نرخ در بین همه ۳۰ روز)، تاپل <code>tuple_day_rate</code> را مانند زیر مقداردهی کنید.\n",
    "</font>\n",
    "</p>\n",
    "\n",
    "```python\n",
    "tuple_day_rate = (15, 0.85)\n",
    "```"
   ]
  },
  {
   "cell_type": "code",
   "execution_count": 213,
   "id": "f8a7c648",
   "metadata": {},
   "outputs": [
    {
     "name": "stdout",
     "output_type": "stream",
     "text": [
      "  action  application_id  interaction_time  notification_id  user_id  \\\n",
      "0      F               1           4489200               79      665   \n",
      "1      F               1           4489200               79     6280   \n",
      "2      F               1           4388400               78    14774   \n",
      "3      F               1           4410000               78     3152   \n",
      "4      C               1           4410000               72     3633   \n",
      "\n",
      "                 date  day  \n",
      "0 2019-07-22 23:00:00   22  \n",
      "1 2019-07-22 23:00:00   22  \n",
      "2 2019-07-21 19:00:00   21  \n",
      "3 2019-07-22 01:00:00   22  \n",
      "4 2019-07-22 01:00:00   22  \n",
      "0.26486013986013984\n",
      "(22.0, 0.26486013986013984)\n"
     ]
    }
   ],
   "source": [
    "df3 = df.copy()\n",
    "df3[\"day\"] = df.date.dt.day\n",
    "print(df3.head())\n",
    "gs = df3.groupby('day')[\"action\"].value_counts().unstack()\n",
    "gs.reset_index(inplace=True)\n",
    "gs[\"sr\"] = gs[\"C\"] / (gs[\"C\"]+gs[\"F\"])\n",
    "ind = gs[\"sr\"].argmax()\n",
    "print(gs.iloc[ind][\"sr\"])\n",
    "\n",
    "day = gs.iloc[ind][\"day\"]\n",
    "tuple_day_rate = (day, gs.iloc[ind][\"sr\"])\n",
    "print(tuple_day_rate)\n"
   ]
  },
  {
   "attachments": {},
   "cell_type": "markdown",
   "id": "8335fc74",
   "metadata": {},
   "source": [
    "<h2 align=right style=\"line-height:200%;font-family:vazir;color:#0099cc\">\n",
    "<font face=\"vazir\" color=\"#0099cc\">\n",
    "<b>سلول جواب‌ساز</b>\n",
    "</font>\n",
    "</h2>\n",
    "\n",
    "\n",
    "<p dir=rtl style=\"direction: rtl; text-align: justify; line-height:200%; font-family:vazir; font-size:medium\">\n",
    "<font face=\"vazir\" size=3>\n",
    "    برای ساخته‌شدن فایل <code>result.zip</code> سلول زیر را اجرا کنید. توجه داشته باشید که پیش از اجرای سلول زیر تغییرات اعمال شده در نت‌بوک را ذخیره کرده باشید (<code>ctrl+s</code>) تا در صورت نیاز به پشتیبانی امکان بررسی کد شما وجود داشته باشد.\n",
    "</font>\n",
    "</p>"
   ]
  },
  {
   "cell_type": "code",
   "execution_count": 214,
   "id": "32eeced9",
   "metadata": {},
   "outputs": [
    {
     "name": "stdout",
     "output_type": "stream",
     "text": [
      "File Paths:\n",
      "['date.csv', 'tuple_appid_successrate', 'tuple_notifid_day', 'tuple_day_rate', 'pushe.ipynb']\n"
     ]
    }
   ],
   "source": [
    "import zipfile\n",
    "import joblib\n",
    "\n",
    "df[['date']].to_csv('date.csv', index=False)\n",
    "joblib.dump(tuple_appid_successrate,\"tuple_appid_successrate\")\n",
    "joblib.dump(tuple_notifid_day, 'tuple_notifid_day')\n",
    "joblib.dump(tuple_day_rate, 'tuple_day_rate')\n",
    "\n",
    "def compress(file_names):\n",
    "    print(\"File Paths:\")\n",
    "    print(file_names)\n",
    "    # Select the compression mode ZIP_DEFLATED for compression\n",
    "    # or zipfile.ZIP_STORED to just store the file\n",
    "    compression = zipfile.ZIP_DEFLATED\n",
    "    # create the zip file first parameter path/name, second mode\n",
    "    with zipfile.ZipFile(\"result.zip\", mode=\"w\") as zf:\n",
    "        for file_name in file_names:\n",
    "            # Add file to the zip file\n",
    "            # first parameter file to zip, second filename in zip\n",
    "            zf.write('./' + file_name, file_name, compress_type=compression)\n",
    "\n",
    "\n",
    "file_names = [\"date.csv\", \"tuple_appid_successrate\", \"tuple_notifid_day\", \"tuple_day_rate\", \"pushe.ipynb\"]\n",
    "compress(file_names)"
   ]
  }
 ],
 "metadata": {
  "kernelspec": {
   "display_name": "qenv",
   "language": "python",
   "name": "qenv"
  },
  "language_info": {
   "codemirror_mode": {
    "name": "ipython",
    "version": 3
   },
   "file_extension": ".py",
   "mimetype": "text/x-python",
   "name": "python",
   "nbconvert_exporter": "python",
   "pygments_lexer": "ipython3",
   "version": "3.9.19"
  }
 },
 "nbformat": 4,
 "nbformat_minor": 5
}
