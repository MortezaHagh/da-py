{
 "cells": [
  {
   "cell_type": "markdown",
   "id": "14af8c96",
   "metadata": {},
   "source": [
    "<h1 align=center style=\"line-height:200%;font-family:vazir;color:#0099cc\">\n",
    "<font face=\"vazir\" color=\"#0099cc\">\n",
    "مگنت\n",
    "</font>\n",
    "</h1>"
   ]
  },
  {
   "attachments": {},
   "cell_type": "markdown",
   "id": "3be49070",
   "metadata": {},
   "source": [
    "<p dir=rtl style=\"direction: rtl;text-align: justify;line-height:200%;font-family:vazir;font-size:medium\">\n",
    "<font face=\"vazir\" size=3>\n",
    "    در تمرین آخر فصل «آماده‌سازی داده» قصد داریم پس از انجام چندین گام پیش‌پردازش، داده‌های آگهی‌های شغلی کوئرا را تحلیل کنیم.\n",
    "آنچه در این تمرین تحلیل می‌کنیم مطمئناً بخش بسیار کوچکی از حقایق پنهان در دل داده‌هاست. پس پیشنهاد می‌کنیم علاوه بر آنچه این تمرین از شما می‌خواهد، خود نیز سعی کنید حقایق دیگری از داده‌ها استخراج کنید.\n",
    "این مجموعه‌داده شامل آگهی‌های شغلی است که در کوئرا ثبت شده‌اند. برای حفظ حریم شخصی شرکت‌ها، شناسه‌ی شرکت‌های ثبت‌کننده آگهی از مجموعه‌داده حذف شده است. هر سطر از این مجموعه‌داده اطلاعات یک آگهی‌ شغلی است که شرکتی قصد جذب نیروی متناسب با آن را داشته است.\n",
    "</font>\n",
    "</p>"
   ]
  },
  {
   "cell_type": "code",
   "execution_count": 1,
   "id": "6169940f",
   "metadata": {},
   "outputs": [],
   "source": [
    "import pandas as pd\n",
    "from datetime import datetime"
   ]
  },
  {
   "attachments": {},
   "cell_type": "markdown",
   "id": "01fb5664",
   "metadata": {},
   "source": [
    "<h2 align=right style=\"line-height:200%;font-family:vazir;color:#0099cc\">\n",
    "<font face=\"vazir\" color=\"#0099cc\">\n",
    "مجموعه‌داده\n",
    "</font>\n",
    "</h2>\n",
    "\n",
    "<p dir=rtl style=\"direction: rtl;text-align: justify;line-height:200%;font-family:vazir;font-size:medium\">\n",
    "<font face=\"vazir\" size=3>\n",
    "    مجموعه داده‌ی این سوال دارای ۸ ستون است که در جدول زیر به شرح ستون‌های آن پرداخته شده‌است.\n",
    "</font>\n",
    "</p>\n",
    "\n",
    "<center>\n",
    "<div dir=rtl style=\"direction: rtl;text-align: justify;line-height:200%;font-family:vazir;font-size:medium\">\n",
    "<font face=\"vazir\" size=3>\n",
    "\n",
    "| نام ستون| توضیح ستون|\n",
    "|:------------------:|:------------------:|\n",
    "|Level|سطح نیرویی که شرکت قصد جذب داشته. این ستون دارای ۴ مقدار منحصر به فرد است. (Junior) S (Senior)، M (Mid level)، J و (Intern) I|\n",
    "|Offers Remote|نشان می‌دهد آیا شرکت امکان دورکاری برای موقعیت شغلی را فراهم کرده‌ است یا خیر.|\n",
    "|Publish Time|تاریخ و ساعتی که آگهی شغلی منتشر شده است.|\n",
    "|Salary|حقوقی که شرکت برای یک موقعیت شغلی خاص در نظر گرفته‌ است. <code>MT</code> آخر هر عبارت نشان‌دهنده‌ی «میلیون تومان» است. و علامت‌های <code>></code> و <code><</code> حد بالا و حد پایین حقوق نوشته‌شده را نشان می‌دهد.|\n",
    "|Title|عنوانی که شرکت برای یک آگهی شغلی خاص ثبت کرده است.|\n",
    "|Close Time|تاریخ و ساعتی که آگهی شغلی بسته شده است.|\n",
    "|State|وضعیت فعلی آگهی شغلی را نشان می‌دهد. دارای سه مقدار منحصر به فرد است. A (Archived)، C (Closed) و PB (Published)|\n",
    "|Collaboration Type|وضعیت همکاری را نشان می‌دهد که آیا FT (Full Time / تمام‌وقت) است یا PT (Part Time / پاره‌وقت)|\n",
    "\n",
    "    \n",
    "</font>\n",
    "</div>\n",
    "</center>\n"
   ]
  },
  {
   "attachments": {},
   "cell_type": "markdown",
   "id": "6a302c1d",
   "metadata": {},
   "source": [
    "<p dir=rtl style=\"direction: rtl;text-align: justify;line-height:200%;font-family:vazir;font-size:medium\">\n",
    "<font face=\"vazir\" size=3>\n",
    "    این سوال در دو بخش تدوین شده است: پیش‌پردازش و تحلیل.\n",
    "    در ابتدا مراحل پیش‌پردازش را شرح خواهیم‌ داد، سپس به سراغ مرحله‌ی تحلیل می‌رویم.\n",
    "</font>\n",
    "</p>\n"
   ]
  },
  {
   "cell_type": "code",
   "execution_count": 2,
   "id": "5f58ddfb",
   "metadata": {
    "scrolled": true
   },
   "outputs": [
    {
     "data": {
      "text/html": [
       "<div>\n",
       "<style scoped>\n",
       "    .dataframe tbody tr th:only-of-type {\n",
       "        vertical-align: middle;\n",
       "    }\n",
       "\n",
       "    .dataframe tbody tr th {\n",
       "        vertical-align: top;\n",
       "    }\n",
       "\n",
       "    .dataframe thead th {\n",
       "        text-align: right;\n",
       "    }\n",
       "</style>\n",
       "<table border=\"1\" class=\"dataframe\">\n",
       "  <thead>\n",
       "    <tr style=\"text-align: right;\">\n",
       "      <th></th>\n",
       "      <th>Level</th>\n",
       "      <th>Offers Remote</th>\n",
       "      <th>Publish Time</th>\n",
       "      <th>Salary</th>\n",
       "      <th>Title</th>\n",
       "      <th>Close Time</th>\n",
       "      <th>State</th>\n",
       "      <th>Collaboration Type</th>\n",
       "    </tr>\n",
       "  </thead>\n",
       "  <tbody>\n",
       "    <tr>\n",
       "      <th>0</th>\n",
       "      <td>S</td>\n",
       "      <td>False</td>\n",
       "      <td>2020-04-20 16:52:15</td>\n",
       "      <td>&lt;8MT</td>\n",
       "      <td>توسعه‌دهنده Node.js</td>\n",
       "      <td>2020-06-20 03:00:06</td>\n",
       "      <td>C</td>\n",
       "      <td>FT</td>\n",
       "    </tr>\n",
       "    <tr>\n",
       "      <th>1</th>\n",
       "      <td>J</td>\n",
       "      <td>False</td>\n",
       "      <td>2020-02-24 12:55:02</td>\n",
       "      <td>&lt;12MT</td>\n",
       "      <td>توسعه‌دهنده Backend</td>\n",
       "      <td>2020-04-25 03:00:05</td>\n",
       "      <td>C</td>\n",
       "      <td>FT</td>\n",
       "    </tr>\n",
       "    <tr>\n",
       "      <th>2</th>\n",
       "      <td>J</td>\n",
       "      <td>True</td>\n",
       "      <td>2020-02-12 13:49:32</td>\n",
       "      <td>&lt;8MT</td>\n",
       "      <td>توسعه‌دهنده C#</td>\n",
       "      <td>2020-04-13 03:00:05</td>\n",
       "      <td>C</td>\n",
       "      <td>FT</td>\n",
       "    </tr>\n",
       "    <tr>\n",
       "      <th>3</th>\n",
       "      <td>J</td>\n",
       "      <td>False</td>\n",
       "      <td>2020-08-18 15:46:48</td>\n",
       "      <td>&lt;3MT</td>\n",
       "      <td>توسعه‌دهنده Front-end</td>\n",
       "      <td>2020-08-25 21:51:39</td>\n",
       "      <td>C</td>\n",
       "      <td>PT</td>\n",
       "    </tr>\n",
       "    <tr>\n",
       "      <th>4</th>\n",
       "      <td>NaN</td>\n",
       "      <td>False</td>\n",
       "      <td>2017-05-01 20:23:08</td>\n",
       "      <td>NaN</td>\n",
       "      <td>توسعه دهنده #C</td>\n",
       "      <td>2017-06-30 20:23:08</td>\n",
       "      <td>C</td>\n",
       "      <td>NaN</td>\n",
       "    </tr>\n",
       "    <tr>\n",
       "      <th>...</th>\n",
       "      <td>...</td>\n",
       "      <td>...</td>\n",
       "      <td>...</td>\n",
       "      <td>...</td>\n",
       "      <td>...</td>\n",
       "      <td>...</td>\n",
       "      <td>...</td>\n",
       "      <td>...</td>\n",
       "    </tr>\n",
       "    <tr>\n",
       "      <th>7664</th>\n",
       "      <td>S</td>\n",
       "      <td>False</td>\n",
       "      <td>2021-05-17 10:11:20</td>\n",
       "      <td>NaN</td>\n",
       "      <td>DevOps Engineer</td>\n",
       "      <td>2021-06-27 04:04:50</td>\n",
       "      <td>C</td>\n",
       "      <td>FT</td>\n",
       "    </tr>\n",
       "    <tr>\n",
       "      <th>7665</th>\n",
       "      <td>S</td>\n",
       "      <td>False</td>\n",
       "      <td>2021-05-17 09:54:44</td>\n",
       "      <td>NaN</td>\n",
       "      <td>برنامه‌نویس ASP.NET Core</td>\n",
       "      <td>2021-06-27 04:04:50</td>\n",
       "      <td>C</td>\n",
       "      <td>FT</td>\n",
       "    </tr>\n",
       "    <tr>\n",
       "      <th>7666</th>\n",
       "      <td>S</td>\n",
       "      <td>False</td>\n",
       "      <td>2021-05-17 09:53:45</td>\n",
       "      <td>NaN</td>\n",
       "      <td>توسعه‌دهنده C++ (qt)</td>\n",
       "      <td>2021-06-27 04:04:50</td>\n",
       "      <td>C</td>\n",
       "      <td>FT</td>\n",
       "    </tr>\n",
       "    <tr>\n",
       "      <th>7667</th>\n",
       "      <td>S</td>\n",
       "      <td>False</td>\n",
       "      <td>2021-05-17 08:17:06</td>\n",
       "      <td>NaN</td>\n",
       "      <td>کارشناس هوش مصنوعی</td>\n",
       "      <td>2021-06-27 04:04:50</td>\n",
       "      <td>C</td>\n",
       "      <td>FT</td>\n",
       "    </tr>\n",
       "    <tr>\n",
       "      <th>7668</th>\n",
       "      <td>S</td>\n",
       "      <td>True</td>\n",
       "      <td>2021-05-15 16:24:36</td>\n",
       "      <td>&gt;12MT</td>\n",
       "      <td>توسعه‌دهنده ارشد Front-end</td>\n",
       "      <td>2021-06-27 04:04:50</td>\n",
       "      <td>C</td>\n",
       "      <td>FT</td>\n",
       "    </tr>\n",
       "  </tbody>\n",
       "</table>\n",
       "<p>7669 rows × 8 columns</p>\n",
       "</div>"
      ],
      "text/plain": [
       "     Level  Offers Remote         Publish Time Salary  \\\n",
       "0        S          False  2020-04-20 16:52:15   <8MT   \n",
       "1        J          False  2020-02-24 12:55:02  <12MT   \n",
       "2        J           True  2020-02-12 13:49:32   <8MT   \n",
       "3        J          False  2020-08-18 15:46:48   <3MT   \n",
       "4      NaN          False  2017-05-01 20:23:08    NaN   \n",
       "...    ...            ...                  ...    ...   \n",
       "7664     S          False  2021-05-17 10:11:20    NaN   \n",
       "7665     S          False  2021-05-17 09:54:44    NaN   \n",
       "7666     S          False  2021-05-17 09:53:45    NaN   \n",
       "7667     S          False  2021-05-17 08:17:06    NaN   \n",
       "7668     S           True  2021-05-15 16:24:36  >12MT   \n",
       "\n",
       "                           Title           Close Time State Collaboration Type  \n",
       "0            توسعه‌دهنده Node.js  2020-06-20 03:00:06     C                 FT  \n",
       "1            توسعه‌دهنده Backend  2020-04-25 03:00:05     C                 FT  \n",
       "2                 توسعه‌دهنده C#  2020-04-13 03:00:05     C                 FT  \n",
       "3          توسعه‌دهنده Front-end  2020-08-25 21:51:39     C                 PT  \n",
       "4                 توسعه دهنده #C  2017-06-30 20:23:08     C                NaN  \n",
       "...                          ...                  ...   ...                ...  \n",
       "7664             DevOps Engineer  2021-06-27 04:04:50     C                 FT  \n",
       "7665    برنامه‌نویس ASP.NET Core  2021-06-27 04:04:50     C                 FT  \n",
       "7666        توسعه‌دهنده C++ (qt)  2021-06-27 04:04:50     C                 FT  \n",
       "7667          کارشناس هوش مصنوعی  2021-06-27 04:04:50     C                 FT  \n",
       "7668  توسعه‌دهنده ارشد Front-end  2021-06-27 04:04:50     C                 FT  \n",
       "\n",
       "[7669 rows x 8 columns]"
      ]
     },
     "execution_count": 2,
     "metadata": {},
     "output_type": "execute_result"
    }
   ],
   "source": [
    "# TODO: read the dataset\n",
    "df = pd.read_csv('./job_posts.csv')\n",
    "df"
   ]
  },
  {
   "attachments": {},
   "cell_type": "markdown",
   "id": "04617399",
   "metadata": {},
   "source": [
    "<h2 align=right style=\"line-height:200%;font-family:vazir;color:#0099cc\">\n",
    "<font face=\"vazir\" color=\"#0099cc\">\n",
    "پیش‌پردازش\n",
    "</font>\n",
    "</h2>\n",
    "\n",
    "<p dir=rtl style=\"direction: rtl;text-align: justify;line-height:200%;font-family:vazir;font-size:medium\">\n",
    "<font face=\"vazir\" size=3>\n",
    "پیش‌پردازش این سوال، شامل سه گام است که پس از اعمال آن‌ها، مجموعه‌داده‌ی ما برای تحلیل آماده می‌شود.    \n",
    "</font>\n",
    "</p>\n"
   ]
  },
  {
   "attachments": {},
   "cell_type": "markdown",
   "id": "f7dde16b",
   "metadata": {},
   "source": [
    "<h3 align=right style=\"line-height:200%;font-family:vazir;color:#0099cc\">\n",
    "<font face=\"vazir\" color=\"#0099cc\">\n",
    "گام اول پیش‌پردازش\n",
    "</font>\n",
    "</h3>\n",
    "\n",
    "<p dir=rtl style=\"direction: rtl;text-align: justify;line-height:200%;font-family:vazir;font-size:medium\">\n",
    "<font face=\"vazir\" size=3>\n",
    "    سطرهایی که <b>هر ۳ ستون </b> <code>Level</code> ،<code>Salary</code> و <code>Collaboration Type</code> در آن‌ها گم‌شده‌اند (<code>NaN</code> هستند) را کلاً از داده‌ها حذف کنید. با داده‌ای که از این مرحله به‌دست می‌آورید سراغ گام دوم بروید.\n",
    "</font>\n",
    "</p>\n"
   ]
  },
  {
   "attachments": {},
   "cell_type": "markdown",
   "id": "86dcfcbe",
   "metadata": {},
   "source": [
    "<p dir=rtl style=\"direction: rtl;text-align: justify;line-height:200%;font-family:vazir;font-size:medium\">\n",
    "    <font face=\"vazir\" size=3 color=#0099cc>\n",
    "    <b>شرح پاسخ:</b>\n",
    "    </font>\n",
    "\t<font face=\"vazir\" size=3>\n",
    "        برای حذف مقادیر گم‌شده از تابع <code>dropna</code> استفاده می‌کنیم.\n",
    "        آرگومان <code>how</code> به این منظور به کار گرفته شده که تنها درصورتی سطری حذف شود که همه ستون‌های حاضر در آرگومان <code>subset</code> مقدار <code>NaN</code> داشته باشند یا به اصطلاح گم‌شده باشند.\n",
    "        آرگومان <code>subset</code> اسم ستون‌هایی را می‌گیرد که ما قصد داریم بررسی کنیم آیا مقدار گم‌شده‌ای در آن‌ها هست یا خیر. یعنی به جای اینکه همه‌ی ستون‌ها را بررسی کنیم صرفا همین ۳ ستون را در نظر می‌گیریم.\n",
    "    </font>\n",
    "</p>\n"
   ]
  },
  {
   "cell_type": "code",
   "execution_count": 3,
   "id": "fd7be7d7",
   "metadata": {},
   "outputs": [],
   "source": [
    "df.dropna(how='all', subset=['Level', 'Salary', 'Collaboration Type'], inplace=True)"
   ]
  },
  {
   "attachments": {},
   "cell_type": "markdown",
   "id": "d63cea18",
   "metadata": {},
   "source": [
    "<p dir=rtl style=\"direction: rtl;text-align: justify;line-height:200%;font-family:vazir;font-size:medium\">\n",
    "    <font face=\"vazir\" size=3 color=#0099cc>\n",
    "    <b>شرح پاسخ:</b>\n",
    "    </font>\n",
    "\t  <font face=\"vazir\" size=3>\n",
    "    جهت اطمینان از اینکه اکنون هیچ سطری نیست که مقدار هر سه ستون <code>Level</code>، <code>Salary</code> و <code>Collaboration Type</code> آن گم‌شده باشد کد زیر را اجرا می‌کنیم.\n",
    "    </font>\n",
    "</p>\n"
   ]
  },
  {
   "cell_type": "code",
   "execution_count": 4,
   "id": "03f3d18f",
   "metadata": {},
   "outputs": [
    {
     "data": {
      "text/html": [
       "<div>\n",
       "<style scoped>\n",
       "    .dataframe tbody tr th:only-of-type {\n",
       "        vertical-align: middle;\n",
       "    }\n",
       "\n",
       "    .dataframe tbody tr th {\n",
       "        vertical-align: top;\n",
       "    }\n",
       "\n",
       "    .dataframe thead th {\n",
       "        text-align: right;\n",
       "    }\n",
       "</style>\n",
       "<table border=\"1\" class=\"dataframe\">\n",
       "  <thead>\n",
       "    <tr style=\"text-align: right;\">\n",
       "      <th></th>\n",
       "      <th>Level</th>\n",
       "      <th>Offers Remote</th>\n",
       "      <th>Publish Time</th>\n",
       "      <th>Salary</th>\n",
       "      <th>Title</th>\n",
       "      <th>Close Time</th>\n",
       "      <th>State</th>\n",
       "      <th>Collaboration Type</th>\n",
       "    </tr>\n",
       "  </thead>\n",
       "  <tbody>\n",
       "  </tbody>\n",
       "</table>\n",
       "</div>"
      ],
      "text/plain": [
       "Empty DataFrame\n",
       "Columns: [Level, Offers Remote, Publish Time, Salary, Title, Close Time, State, Collaboration Type]\n",
       "Index: []"
      ]
     },
     "execution_count": 4,
     "metadata": {},
     "output_type": "execute_result"
    }
   ],
   "source": [
    "df[(df.Level.isna()) & (df.Salary.isna()) & (df['Collaboration Type'].isna())]"
   ]
  },
  {
   "attachments": {},
   "cell_type": "markdown",
   "id": "e72433fe",
   "metadata": {},
   "source": [
    "<h3 align=right style=\"line-height:200%;font-family:vazir;color:#0099cc\">\n",
    "<font face=\"vazir\" color=\"#0099cc\">\n",
    "گام دوم پیش‌پردازش\n",
    "</font>\n",
    "</h3>\n",
    "\n",
    "<p dir=rtl style=\"direction: rtl;text-align: justify;line-height:200%;font-family:vazir;font-size:medium\">\n",
    "<font face=\"vazir\" size=3>\n",
    "    مقادیر ستون <code>Salary</code> را با عددی که دارند جایگزین کنید.\n",
    "    مثلا مقداری مثل \n",
    "    <code>>6MT</code>\n",
    "     را به \n",
    "     <code>6</code>\n",
    "      تبدیل کنید.\n",
    "    یا \n",
    "    <code>>12MT</code>\n",
    "     را به\n",
    "      <code>12</code>\n",
    "       و ... تبدیل کنید.\n",
    "    <br>\n",
    "    به صورت کلی، عدد هر رشته  از ستون <code>Salary</code> را جدا کرده و جایگزین همان رشته‌ی درون دیتاست کنید.\n",
    "    </font>\n",
    "</p>"
   ]
  },
  {
   "attachments": {},
   "cell_type": "markdown",
   "id": "03cf4d0b",
   "metadata": {},
   "source": [
    "<p dir=rtl style=\"direction: rtl;text-align: justify;line-height:200%;font-family:vazir;font-size:medium\">\n",
    "    <font face=\"vazir\" size=3 color=#0099cc>\n",
    "    <b>شرح پاسخ:</b>\n",
    "    </font>\n",
    "\t  <font face=\"vazir\" size=3>\n",
    "        در خط نخست با استفاده از عبارت منظم <code> >|< </code>از ستون <code>Salary</code> علامت <code><</code> یا <code>></code> را با یک رشته خالی جایگزین می‌کنیم.\n",
    "        سپس در خط دوم هر جا در ستون <code>Salary</code> که عبارت <code>MT</code> آمده باشد را با رشته خالی جایگزین می‌کنیم.\n",
    "        و در نهایت با استفاده از تابع <code>to_numeric</code> پانداز ستون <code>Salary</code> را به عدد تبدیل می‌کنیم. دلیل این کار این است که تا قبل از این مرحله جنس مقادیر ستون <code>Salary</code> همگی <code>object</code> است. ولی منطقاً ستونی که حقوق را نشان می‌دهد باید از نوع عددی باشد!\n",
    "        آرگومان <code dir=ltr>errors=\"coerce\"</code> به این دلیل به‌کار رفته است که آن دسته از مقادیری که در ستون <code>Salary</code> هستند ولی قابلیت تبدیل به عدد را ندارند، به <code>NaN</code> تبدیل کنیم.\n",
    "        در این مثال، مقادیری که از قبل به صورت <code>NaN</code> در این ستون وجود داشتند، با تابع <code>to_numeric</code> به عدد تبدیل نمی‌شوند.\n",
    "    </font>\n",
    "</p>\n"
   ]
  },
  {
   "cell_type": "code",
   "execution_count": 5,
   "id": "2a9fd319",
   "metadata": {},
   "outputs": [],
   "source": [
    "df['Salary'] = df['Salary'].str.replace(r'>|<', \"\", regex=True)\n",
    "df['Salary'] = df['Salary'].str.replace(\"MT\", \"\")\n",
    "df['Salary'] = pd.to_numeric(df['Salary'], errors='coerce')"
   ]
  },
  {
   "attachments": {},
   "cell_type": "markdown",
   "id": "7015fd3d",
   "metadata": {},
   "source": [
    "<h3 align=right style=\"line-height:200%;font-family:vazir;color:#0099cc\">\n",
    "<font face=\"vazir\" color=\"#0099cc\">\n",
    "گام سوم پیش‌پردازش\n",
    "</font>\n",
    "</h3>\n",
    "\n",
    "<p dir=rtl style=\"direction: rtl;text-align: justify;line-height:200%;font-family:vazir;font-size:medium\">\n",
    "<font face=\"vazir\" size=3>\n",
    "    مقادیر گم‌شده‌ی ستون <code>Salary</code> را با میانگین حقوق‌ها <b>به تفکیک سطح</b> پر کنید. یعنی اگر <code>Salary</code> یک آگهی جونیور (<code>J</code>) گم‌شده بود، آن را با میانگین همه‌ی جونیورها پر کنید؛ اگر <code>Salary</code> یک آگهی سینیور (<code>S</code>) گم‌شده بود، آن را با میانگین همه‌ی سنیورها پر کنید؛ اگر <code>Salary</code> یک آگهی میدلول (<code>M</code>) گم‌شده بود، آن را با میانگین همه‌ی میدلول‌ها پر کنید؛ اگر <code>Salary</code> یک آگهی اینترن (<code>I</code>) گم‌شده بود، آن را با میانگین همه‌ی اینترن‌ها پر کنید.\n",
    "</font>\n",
    "</p>"
   ]
  },
  {
   "attachments": {},
   "cell_type": "markdown",
   "id": "2f4fdcdd",
   "metadata": {},
   "source": [
    "<p dir=rtl style=\"direction: rtl;text-align: justify;line-height:200%;font-family:vazir;font-size:medium\">\n",
    "    <font face=\"vazir\" size=3 color=#0099cc>\n",
    "    <b>شرح پاسخ:</b>\n",
    "    </font>\n",
    "\t<font face=\"vazir\" size=3>\n",
    "    ابتدا میانگین حقوق هر سطح را محاسبه کنیم.\n",
    "    </font>\n",
    "</p>\n"
   ]
  },
  {
   "cell_type": "code",
   "execution_count": 6,
   "id": "9e2228c5",
   "metadata": {},
   "outputs": [],
   "source": [
    "senior_mean_salary = df[df.Level=='S']['Salary'].mean()\n",
    "midlevel_mean_salary = df[df.Level=='M']['Salary'].mean()\n",
    "junior_mean_salary = df[df.Level=='J']['Salary'].mean()\n",
    "intern_mean_salary = df[df.Level=='I']['Salary'].mean()"
   ]
  },
  {
   "attachments": {},
   "cell_type": "markdown",
   "id": "b696e745",
   "metadata": {},
   "source": [
    "<p dir=rtl style=\"direction: rtl;text-align: justify;line-height:200%;font-family:vazir;font-size:medium\">\n",
    "    <font face=\"vazir\" size=3 color=#0099cc>\n",
    "    <b>شرح پاسخ:</b>\n",
    "    </font>\n",
    "\t<font face=\"vazir\" size=3>\n",
    "        حال باید سطرهایی که مقدار <code>Salary</code> در آن‌ها گم‌شده است را با توجه به سطح آن، با میانگین‌هایی که در سلول قبل محاسبه کردیم، پر کنیم. اجازه دهید خط اول را به عنوان نمونه توضیح دهیم.\n",
    "        در کروشه (قلاب) روبروی ویژگی <code>loc</code> دو مقدار می‌تواند نوشته شود. سمت چپ کاما (<code>,</code>) باید نمایه‌ی سطر‌ها و سمت راست آن باید اسم ستون را بنویسیم.\n",
    "        برای نمایه‌های سطر، آن‌هایی را انتخاب کردیم که هم ستون <code>Salary</code>شان مقدار گم‌شده داشته باشد، هم سطح‌شان برابر <code>S</code> باشد.\n",
    "        پس <code>df.loc[(df.Salary.isna()) & (df.Level == 'S'), 'Salary']</code> سطرهایی را انتخاب می‌کند که عملاً مقدار <code>Salary</code> ندارند و سطح‌شان هم سنیور (<code>S</code>) است.\n",
    "       چون سمت راست کاما، ستون <code>Salary</code> را نوشته‌ایم، به ستون حقوق سطرهایی که در بالا توضیح‌شان دادیم دسترسی داریم.\n",
    "        اکنون می‌توانیم ستون حقوق این سطر‌ها را با میانگین متناظرش که در سلول پیشین به‌دست آوردیم جایگزین کنیم.\n",
    "    </font>\n",
    "</p>"
   ]
  },
  {
   "cell_type": "code",
   "execution_count": 7,
   "id": "20f377dd",
   "metadata": {},
   "outputs": [],
   "source": [
    "df.loc[(df.Salary.isna()) & (df.Level == 'S'), 'Salary'] = senior_mean_salary\n",
    "df.loc[(df.Salary.isna()) & (df.Level == 'M'), 'Salary'] = midlevel_mean_salary\n",
    "df.loc[(df.Salary.isna()) & (df.Level == 'J'), 'Salary'] = junior_mean_salary\n",
    "df.loc[(df.Salary.isna()) & (df.Level == 'I'), 'Salary'] = intern_mean_salary"
   ]
  },
  {
   "attachments": {},
   "cell_type": "markdown",
   "id": "25b40815",
   "metadata": {},
   "source": [
    "<p dir=rtl style=\"direction: rtl;text-align: justify;line-height:200%;font-family:vazir;font-size:medium\">\n",
    "    <font face=\"vazir\" size=3 color=#0099cc>\n",
    "    <b>شرح پاسخ:</b>\n",
    "    </font>\n",
    "\t<font face=\"vazir\" size=3>\n",
    "    با اجرای کد زیر می‌توانیم مطمئن شویم که ستون <code>Salary</code> دیگر هیچ مقدار گم‌شده‌ای ندارد.\n",
    "    </font>\n",
    "</p>\n"
   ]
  },
  {
   "cell_type": "code",
   "execution_count": 8,
   "id": "eff222da",
   "metadata": {},
   "outputs": [
    {
     "data": {
      "text/plain": [
       "Level                   0\n",
       "Offers Remote           0\n",
       "Publish Time            0\n",
       "Salary                  0\n",
       "Title                   0\n",
       "Close Time            582\n",
       "State                   0\n",
       "Collaboration Type      0\n",
       "dtype: int64"
      ]
     },
     "execution_count": 8,
     "metadata": {},
     "output_type": "execute_result"
    }
   ],
   "source": [
    "df.isna().sum()"
   ]
  },
  {
   "attachments": {},
   "cell_type": "markdown",
   "id": "3f187efb",
   "metadata": {},
   "source": [
    "<p dir=rtl style=\"direction: rtl;text-align: justify;line-height:200%;font-family:vazir;font-size:medium\">\n",
    "<font face=\"vazir\" size=3>\n",
    "حال با داده‌ای که پس از این مراحل به‌دست آورده‌اید، به حل سوالات بعدی بپردازید.\n",
    "</font>\n",
    "</p>"
   ]
  },
  {
   "attachments": {},
   "cell_type": "markdown",
   "id": "e96a54aa",
   "metadata": {},
   "source": [
    "<h2 align=right style=\"line-height:200%;font-family:vazir;color:#0099cc\">\n",
    "<font face=\"vazir\" color=\"#0099cc\">\n",
    "تحلیل    \n",
    "</font>\n",
    "</h2>\n",
    "\n",
    "<p dir=rtl style=\"direction: rtl;text-align: right;line-height:200%;font-family:vazir;font-size:medium\">\n",
    "<font face=\"vazir\" size=3>\n",
    "    بخش تحلیل تمرین مگنت نیز از سه گام تشکیل شده‌است:\n",
    "    <ul dir=rtl>\n",
    "    <li>در گام اول می‌خواهیم تاثیر کرونا بر دورکاری در ایران را بسنجیم.</li>\n",
    "    <li>در سوال دوم تاثیر زمان بر انتشار آگهی‌های شغلی را اندازه می‌گیریم.</li>\n",
    "    <li>و نهایتاً در گام سوم میانگین دریافتی فعالان حوزه‌ی داده را به‌دست خواهیم آورد.</li>\n",
    "    </ul>\n",
    "</font>\n",
    "</p>\n"
   ]
  },
  {
   "attachments": {},
   "cell_type": "markdown",
   "id": "d4655aa6",
   "metadata": {},
   "source": [
    "<h3 align=right style=\"line-height:200%;font-family:vazir;color:#0099cc\">\n",
    "<font face=\"vazir\" color=\"#0099cc\">\n",
    "گام اول تحلیل\n",
    "</font>\n",
    "</h3>\n",
    "\n",
    "<p dir=rtl style=\"direction: rtl;text-align: justify;line-height:200%;font-family:vazir;font-size:medium\">\n",
    "<font face=\"vazir\" size=3>\n",
    "    نرخ آگهی‌های شغلی که پیشنهاد دورکاری دارند، چقدر نسبت به قبل از اولین مورد رسمی کرونا در ایران بیشتر شده است؟ منظور از «نرخ آگهی‌های شغلی که پیشنهاد دورکاری دارند» حاصل تقسیم آگهی‌های شغلی که پیشنهاد دورکاری دارند بر تعداد کل آگهی‌هاست (تعداد ردیف‌های دیتافریم). هدف این سوال این است که بفهمیم کرونا چقدر در دورکاری موثر بوده‌ است. برای این حل سوال، نرخ آگهی‌های دورکار پیش از کرونا را از نرخ آگهی‌های دورکار پس از کرونا کم کنید (یا تعدادشان را از هم‌دیگر کم کرده و نهایتاً بر تعداد کل آگهی‌ها تقسیم کنید).\n",
    "    اولین مورد رسمی کرونا در ایران را می‌توانید از متغیر <code>start_of_corona</code> که در سلول زیر گذاشته شده است پیدا کنید.\n",
    "    توجه داشته باشید اولین روزی که کرونا به ایران آمد را نیز جزو روزهای <u>پس از کرونا</u> لحاظ <b>کنید</b>.\n",
    "    <br>\n",
    "    جواب این سوال را درون متغیر <code>remote_growth</code> ذخیره کنید. جنس این متغیر از نوع <code>float</code> است. \n",
    "    <br>\n",
    "    <span color=”green”><b>راهنمایی:</b></span>\n",
    "    به عنوان مثال برای محاسبه‌ی نرخ آگهی‌های پیش از کرونا باید تعداد آگهی‌هایی که هم از نوع دورکاری هستند و هم تاریخ ثبت (<code>Publish Time</code>) آن‌ها پیش از تاریخ شروع کرونا بوده است را شمارش کرده و سپس حاصل را بر تعداد کل آگهی‌ها (از هر نوعی و در هر تاریخی) تقسیم کنید.\n",
    "</font>\n",
    "</p>"
   ]
  },
  {
   "cell_type": "code",
   "execution_count": 9,
   "id": "5bde11c5",
   "metadata": {},
   "outputs": [],
   "source": [
    "start_of_corona = datetime.strptime(\"2020-02-19\", \"%Y-%m-%d\")"
   ]
  },
  {
   "attachments": {},
   "cell_type": "markdown",
   "id": "5dc4025c",
   "metadata": {},
   "source": [
    "<p dir=rtl style=\"direction: rtl;text-align: justify;line-height:200%;font-family:vazir;font-size:medium\">\n",
    "    <font face=\"vazir\" size=3 color=#0099cc>\n",
    "    <b>شرح پاسخ:</b>\n",
    "    </font>\n",
    "\t<font face=\"vazir\" size=3>\n",
    "    پیش از هرچیز نیاز است تا نوع ستون <code>Publish Time</code> را به نوع <code>datetime</code> تغییر دهیم تا بتوان مقادیر آن را با مقدار متغیر <code>start_of_corona</code> مقایسه کرد.\n",
    "    </font>\n",
    "</p>\n"
   ]
  },
  {
   "cell_type": "code",
   "execution_count": 10,
   "id": "b0d63c67",
   "metadata": {
    "scrolled": true
   },
   "outputs": [
    {
     "name": "stdout",
     "output_type": "stream",
     "text": [
      "remote growth: 0.23820038642009383\n"
     ]
    }
   ],
   "source": [
    "df['Publish Time'] = pd.to_datetime(df['Publish Time'], format=\"%Y-%m-%d\")\n",
    "\n",
    "before_corona = df[(df['Publish Time'] < start_of_corona) & (df['Offers Remote']==True) ].shape[0]\n",
    "after_corona =  df[(df['Publish Time'] >= start_of_corona) & (df['Offers Remote']==True) ].shape[0]\n",
    "\n",
    "remote_growth = (after_corona - before_corona) / df.shape[0]\n",
    "print('remote growth:', remote_growth)"
   ]
  },
  {
   "attachments": {},
   "cell_type": "markdown",
   "id": "90290347",
   "metadata": {},
   "source": [
    "<h3 align=right style=\"line-height:200%;font-family:vazir;color:#0099cc\">\n",
    "<font face=\"vazir\" color=\"#0099cc\">\n",
    "گام دوم تحلیل\n",
    "</font>\n",
    "</h3>\n",
    "\n",
    "<p dir=rtl style=\"direction: rtl;text-align: justify;line-height:200%;font-family:vazir;font-size:medium\">\n",
    "<font face=\"vazir\" size=3>\n",
    "در این گام قصد داریم به گسسته‌سازی زمان بپردازیم و باید ۲۴ ساعت شبانه‌روز را طبق جدول پایین به ۴ دسته بشکنید.\n",
    "</font>\n",
    "</p>\n",
    "\n",
    "<center>\n",
    "<div dir=rtl style=\"direction: rtl;line-height:200%;font-family:vazir;font-size:medium\">\n",
    "<font face=\"vazir\" size=3>\n",
    "    \n",
    "|اسم|بازه زمانی|\n",
    "|:-------:|:-----:|\n",
    "|dawn| ۰۰:۰۰ تا ۵:۵۹:۵۹|\n",
    "|morning|۶:۰۰ تا ۱۱:۵۹:۵۹|\n",
    "|noon|۱۲:۰۰ تا ۱۷:۵۹:۵۹|\n",
    "|night|۱۸:۰۰ تا ۲۳:۵۹:۵۹|\n",
    "    \n",
    "</font>\n",
    "</div>\n",
    "</center>\n",
    "\n",
    "<p dir=rtl style=\"direction: rtl;text-align: justify;line-height:200%;font-family:vazir;font-size:medium\">\n",
    "<font face=\"vazir\" size=3>\n",
    " حال محاسبه کنید در هر کدام از این ۴ بازه چه تعداد آگهی شغلی منتشر شده است؟ جواب شما باید درون متغیری به اسم <code>discrete_time</code> ذخیره شده باشد. این متغیر یک دیتاسری است که نمایه‌های (<code>index</code>) آن <code>dawn</code>, <code>morning</code>, <code>noon</code> و <code>night</code> هستند و مقدار متناظر با هر کدام از این نمایه‌ها، تعداد آگهی‌های شغلی منتشرشده است.\n",
    "</font>\n",
    "</p>\n"
   ]
  },
  {
   "cell_type": "code",
   "execution_count": 11,
   "id": "e082768d",
   "metadata": {},
   "outputs": [],
   "source": [
    "from datetime import time\n",
    "\n",
    "morning = time(6,0,0)\n",
    "noon = time(12,0,0)\n",
    "night = time(18,0,0)"
   ]
  },
  {
   "cell_type": "code",
   "execution_count": 12,
   "id": "01ded057",
   "metadata": {},
   "outputs": [],
   "source": [
    "def discretize_time(date_time) :\n",
    "    if date_time.time() < morning :\n",
    "        return 'dawn'\n",
    "    elif date_time.time() < noon :\n",
    "        return 'morning' \n",
    "    elif date_time.time() < night :\n",
    "        return 'noon' \n",
    "    return 'night'"
   ]
  },
  {
   "cell_type": "code",
   "execution_count": 13,
   "id": "526a99c6",
   "metadata": {},
   "outputs": [],
   "source": [
    "discretized_time = df['Publish Time'].apply(discretize_time)"
   ]
  },
  {
   "cell_type": "code",
   "execution_count": 14,
   "id": "6252285f",
   "metadata": {},
   "outputs": [
    {
     "data": {
      "text/plain": [
       "noon       3950\n",
       "morning    2443\n",
       "night       746\n",
       "dawn        107\n",
       "Name: Publish Time, dtype: int64"
      ]
     },
     "execution_count": 14,
     "metadata": {},
     "output_type": "execute_result"
    }
   ],
   "source": [
    "discrete_time = discretized_time.value_counts()\n",
    "discrete_time"
   ]
  },
  {
   "attachments": {},
   "cell_type": "markdown",
   "id": "25fa766a",
   "metadata": {},
   "source": [
    "\n",
    "<h3 align=right style=\"line-height:200%;font-family:vazir;color:#0099cc\">\n",
    "<font face=\"vazir\" color=\"#0099cc\">\n",
    "گام سوم تحلیل\n",
    "</font>\n",
    "</h3>\n",
    "\n",
    "<p dir=rtl style=\"direction: rtl;text-align: justify;line-height:200%;font-family:vazir;font-size:medium\">\n",
    "<font face=\"vazir\" size=3>\n",
    "در این سوال می‌خواهیم میزان پرداختی شرکت‌ها به افراد فعال در حوزه‌ی دیتا را بررسی کنیم. برای اینکه بتوانیم آگهی‌های شغلی این حوزه را فیلتر کنیم، لیستی از کلیدواژه‌ها در سلول زیر قرار داده شده است. فرض می‌کنیم همه آگهی‌های شغلی که در عنوان (<code>Title</code>) خود یکی از این کلمات به‌کار رفته است، به حوزه‌ی داده مربوط می‌شود. لازم نیست تیتر یک آگهی تماماً یکی از کلید‌های موجود در لیست کلیدواژه‌ها باشد؛ صرفاً اگر یک کلید بخشی از تیتر یک آگهی شغلی باشد نیز ما آن آگهی شغلی را مرتبط به داده فرض می‌کنیم. مثلاً اگر کلیدی به اسم <i>Data Analyst</i> درون لیست کلیدواژه‌ها حضور داشته باشد، آنگاه یک آگهی با تیتر <i>\"استخدام Data Analyst\"</i> را مرتبط با حوزه‌ی داده در نظر می‌گیریم.\n",
    "    <br>\n",
    "    حال سوال را این‌گونه تعریف می‌کنیم: میانگین میزان پرداختی شرکت‌ها به افراد حاضر در حوزه‌ی داده به تفکیک سطح‌شان چقدر است؟ جواب خود را درون یک دیتاسری به اسم <code>data_mean</code> بریزید. نمایه‌های این سری حروف <code>S</code>, <code>J</code>, <code>I</code> و <code>M</code> هستند و مقدار متناظر با هر کدام از این نمایه‌ها، میانگین حقوق پرداختی شرکت‌ها به آن سطح خاص است.    \n",
    "</font>\n",
    "</p>\n",
    "\n",
    "<p dir=rtl style=\"direction: rtl;text-align: justify;line-height:200%;font-family:vazir;font-size:medium\">\n",
    "<span color=”green”><b>راهنمایی بزرگ:</b></span>\n",
    "<font face=\"vazir\" size=3>\n",
    "فراموش نکنید که پیش از انجام محاسبات، ستون <code>Title</code> را به حروف کوچک تبدیل کنید. دلیل چنین کاری این است که اگر مثلاً عنوان یک آگهی <i> Senior Data Engineer</i> باشد، کد شما باید آن را به حروف کوچک تبدیل کرده تا بتواند کلیدواژه‌ی <i>data engineer</i> را در آن پیدا کرده و آگهی را در حوزه‌ی داده تشخیص دهد.\n",
    "</font>\n",
    "</p>\n"
   ]
  },
  {
   "cell_type": "code",
   "execution_count": 15,
   "id": "1319e12e",
   "metadata": {},
   "outputs": [],
   "source": [
    "keywords = ['machine learning', 'machinelearning', 'داده' , 'data scientist' ,  'datascientist' ,\\\n",
    "        'هوش مصنوعی' ,'پردازش ویدئو' , 'data engineer' , 'dataengineer' ,'بینایی ماشین' , 'یادگیری ماشین' ,\\\n",
    "        'deep learning', 'deeplearning', 'یادگیری عمیق', 'دیتاساینتیست' , 'artificial intelligence' \\\n",
    "        ,'artificialintelligence', 'هوش' , 'data analysis' , 'dataanalysis' , 'پردازش تصویر' , 'شبکه‌های عمیق', 'علم‌داده']\n"
   ]
  },
  {
   "attachments": {},
   "cell_type": "markdown",
   "id": "96edb0c3",
   "metadata": {},
   "source": [
    "<p dir=rtl style=\"direction: rtl;text-align: justify;line-height:200%;font-family:vazir;font-size:medium\">\n",
    "    <font face=\"vazir\" size=3 color=#0099cc>\n",
    "    <b>شرح پاسخ:</b>\n",
    "    </font>\n",
    "\t<font face=\"vazir\" size=3>\n",
    "    همانطور که راهنمایی شده ابتدا ستون <code>Title</code> را به حروف کوچک تبدیل می‌کنیم. سپس از تابع آماده‌ی <code>str.contains</code> استفاده می‌کنیم تا یک پترن را در میان مقادیر این ستون بیابد. پترن مربوطه به معنی کلیدواژه‌ی اول یا کلیدواژه‌ی دوم یا کلیدواژه‌ی سوم و ... است. بنابراین اگر هرکدام از این کلیدواژه‌ها در یک عنوان دیده شود <code>df.Title.str.contains(pattern)</code> برای آن ردیف مقدار <code>True</code> تولید خواهد کرد.\n",
    "    سپس ردیف‌هایی که شرط بالا برای آن‌ها برقرار بوده را طبق سطح‌شان گروه‌بندی خواهیم کرد و در آخر میانگین حقوق آن‌ها را محاسبه می‌کنیم.\n",
    "    </font>\n",
    "</p>\n"
   ]
  },
  {
   "cell_type": "code",
   "execution_count": 16,
   "id": "ddaeb23f",
   "metadata": {
    "scrolled": true
   },
   "outputs": [
    {
     "data": {
      "text/plain": [
       "Level\n",
       "I     2.256501\n",
       "J     5.750707\n",
       "M    12.000000\n",
       "S     8.891994\n",
       "Name: Salary, dtype: float64"
      ]
     },
     "execution_count": 16,
     "metadata": {},
     "output_type": "execute_result"
    }
   ],
   "source": [
    "df['Title'] = df['Title'].str.lower()\n",
    "\n",
    "pattern = '|'.join(keywords)\n",
    "data_mean = df[df.Title.str.contains(pattern)].groupby('Level').Salary.mean()\n",
    "data_mean"
   ]
  },
  {
   "attachments": {},
   "cell_type": "markdown",
   "id": "42bf4780",
   "metadata": {},
   "source": [
    "<h2 align=right style=\"line-height:200%;font-family:vazir;color:#0099cc\">\n",
    "<font face=\"vazir\" color=\"#0099cc\">\n",
    "<b>سلول جواب‌ساز</b>\n",
    "</font>\n",
    "</h2>\n",
    "\n",
    "\n",
    "<p dir=rtl style=\"direction: rtl; text-align: justify; line-height:200%; font-family:vazir; font-size:medium\">\n",
    "<font face=\"vazir\" size=3>\n",
    "    برای ساخته‌شدن فایل <code>result.zip</code> سلول زیر را اجرا کنید. توجه داشته باشید که پیش از اجرای سلول زیر تغییرات اعمال‌شده در نت‌بوک را ذخیره کرده باشید (<code>ctrl+s</code>) تا در صورت نیاز به پشتیبانی امکان بررسی کد شما وجود داشته باشد.\n",
    "</font>\n",
    "</p>"
   ]
  },
  {
   "cell_type": "code",
   "execution_count": null,
   "id": "8d94f5f9",
   "metadata": {},
   "outputs": [],
   "source": [
    "import zipfile\n",
    "import joblib\n",
    "\n",
    "pd.DataFrame.to_csv(df, 'df.csv')\n",
    "joblib.dump(remote_growth, \"remote_growth\")\n",
    "joblib.dump(discrete_time, \"discrete_time\")\n",
    "joblib.dump(data_mean, \"data_mean\")\n",
    "\n",
    "def compress(file_names):\n",
    "    print(\"File Paths:\")\n",
    "    print(file_names)\n",
    "    # Select the compression mode ZIP_DEFLATED for compression\n",
    "    # or zipfile.ZIP_STORED to just store the file\n",
    "    compression = zipfile.ZIP_DEFLATED\n",
    "    # create the zip file first parameter path/name, second mode\n",
    "    with zipfile.ZipFile(\"result.zip\", mode=\"w\") as zf:\n",
    "        for file_name in file_names:\n",
    "            # Add file to the zip file\n",
    "            # first parameter file to zip, second filename in zip\n",
    "            zf.write('./' + file_name, file_name, compress_type=compression)\n",
    "\n",
    "file_names = [\"df.csv\", \"remote_growth\", \"discrete_time\", \"data_mean\", \"quera_magnet.ipynb\"]\n",
    "compress(file_names)"
   ]
  }
 ],
 "metadata": {
  "kernelspec": {
   "display_name": "quera",
   "language": "python",
   "name": "python3"
  },
  "language_info": {
   "codemirror_mode": {
    "name": "ipython",
    "version": 3
   },
   "file_extension": ".py",
   "mimetype": "text/x-python",
   "name": "python",
   "nbconvert_exporter": "python",
   "pygments_lexer": "ipython3",
   "version": "3.9.7"
  },
  "vscode": {
   "interpreter": {
    "hash": "6a29b8f2e1e8b11f80c3820468461bcdbea6564508a235f61a46eeb59d48b308"
   }
  }
 },
 "nbformat": 4,
 "nbformat_minor": 5
}
